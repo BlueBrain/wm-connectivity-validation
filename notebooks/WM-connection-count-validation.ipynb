{
 "cells": [
  {
   "cell_type": "code",
   "execution_count": 1,
   "id": "8c19446e",
   "metadata": {
    "scrolled": true
   },
   "outputs": [
    {
     "data": {
      "text/plain": [
       "Source region  Target region\n",
       "S1DZ           S1DZ             0.002582\n",
       "               S1FL,S1Sh        0.011206\n",
       "               S1HL             0.011649\n",
       "               S1J,S1DZO        0.005649\n",
       "               S1Tr             0.004365\n",
       "               S1ULp            0.038002\n",
       "S1FL,S1Sh      S1DZ             0.008034\n",
       "               S1FL,S1Sh        0.001113\n",
       "               S1HL             0.033943\n",
       "               S1J,S1DZO        0.012264\n",
       "               S1Tr             0.008597\n",
       "               S1ULp            0.020868\n",
       "S1HL           S1DZ             0.011986\n",
       "               S1FL,S1Sh        0.019203\n",
       "               S1HL             0.001838\n",
       "               S1J,S1DZO        0.000344\n",
       "               S1Tr             0.018282\n",
       "               S1ULp            0.000079\n",
       "S1J,S1DZO      S1DZ             0.005384\n",
       "               S1FL,S1Sh        0.007211\n",
       "               S1HL             0.000248\n",
       "               S1J,S1DZO        0.001263\n",
       "               S1Tr             0.000151\n",
       "               S1ULp            0.053246\n",
       "S1Tr           S1DZ             0.010303\n",
       "               S1FL,S1Sh        0.009896\n",
       "               S1HL             0.027205\n",
       "               S1J,S1DZO        0.000353\n",
       "               S1Tr             0.001629\n",
       "               S1ULp            0.000091\n",
       "S1ULp          S1DZ             0.027410\n",
       "               S1FL,S1Sh        0.015800\n",
       "               S1HL             0.001585\n",
       "               S1J,S1DZO        0.037903\n",
       "               S1Tr             0.000368\n",
       "               S1ULp            0.001413\n",
       "Name: Density, dtype: float64"
      ]
     },
     "metadata": {},
     "output_type": "display_data"
    }
   ],
   "source": [
    "import pandas\n",
    "import h5py\n",
    "import json\n",
    "import os\n",
    "import numpy\n",
    "import yaml\n",
    "from wm_utility.wm_recipe_utility import lookup_population_in_recipe\n",
    "\n",
    "# Path to a pixel-to-pixel connectivity result\n",
    "# Use scripts/count_adjacent_connectivity.py in https://bbpgitlab.epfl.ch/conn/configs/thalamo-neocortex-connectivity\n",
    "# Use it without option -f, but add option -p projection_name\n",
    "fn_model = \"/gpfs/bbp.cscs.ch/project/proj83/scratch/home/reimann/connectome_analysis/Bio_M_20200805/total_synapse_counts/adjacent_connection_counts_exc_wm.pkl\"\n",
    "fn_recipe = \"./data/rat_wm_recipe_tr_ll_ul_un_n_m_subtract_adjacents.yaml\"\n",
    "\n",
    "counts_lcl = pandas.read_pickle(fn_model)\n",
    "valid = numpy.all(counts_lcl[[\"Source region\", \"Target region\"]] != \"INH\", axis=1)\n",
    "counts_lcl = counts_lcl[\"Density\"][valid]\n",
    "prescr = counts_lcl.copy()\n",
    "prescr[:] = 0.0\n",
    "\n",
    "with open(fn_recipe, \"r\") as fid:\n",
    "    recipe = yaml.load(fid, Loader=yaml.SafeLoader)\n",
    "\n",
    "display(counts_lcl)"
   ]
  },
  {
   "cell_type": "code",
   "execution_count": 5,
   "id": "ab7ad50e",
   "metadata": {},
   "outputs": [
    {
     "data": {
      "text/plain": [
       "Source region  Target region\n",
       "S1DZ           S1DZ             0.000000\n",
       "               S1FL,S1Sh        0.010001\n",
       "               S1HL             0.015521\n",
       "               S1J,S1DZO        0.005507\n",
       "               S1Tr             0.005141\n",
       "               S1ULp            0.036441\n",
       "S1FL,S1Sh      S1DZ             0.009387\n",
       "               S1FL,S1Sh        0.000000\n",
       "               S1HL             0.052276\n",
       "               S1J,S1DZO        0.019832\n",
       "               S1Tr             0.010145\n",
       "               S1ULp            0.040467\n",
       "S1HL           S1DZ             0.014611\n",
       "               S1FL,S1Sh        0.028740\n",
       "               S1HL             0.000000\n",
       "               S1J,S1DZO        0.000000\n",
       "               S1Tr             0.025971\n",
       "               S1ULp            0.000000\n",
       "S1J,S1DZO      S1DZ             0.003706\n",
       "               S1FL,S1Sh        0.011163\n",
       "               S1HL             0.000000\n",
       "               S1J,S1DZO        0.000000\n",
       "               S1Tr             0.000000\n",
       "               S1ULp            0.088703\n",
       "S1Tr           S1DZ             0.013485\n",
       "               S1FL,S1Sh        0.012362\n",
       "               S1HL             0.034230\n",
       "               S1J,S1DZO        0.000000\n",
       "               S1Tr             0.000000\n",
       "               S1ULp            0.000000\n",
       "S1ULp          S1DZ             0.027485\n",
       "               S1FL,S1Sh        0.018378\n",
       "               S1HL             0.001657\n",
       "               S1J,S1DZO        0.038743\n",
       "               S1Tr             0.000000\n",
       "               S1ULp            0.000000\n",
       "Name: Density, dtype: float64"
      ]
     },
     "metadata": {},
     "output_type": "display_data"
    }
   ],
   "source": [
    "for proj in recipe[\"projections\"]:\n",
    "    src = proj[\"source\"]\n",
    "    rat_src = lookup_population_in_recipe(src, recipe)\n",
    "    src_str = \",\".join(rat_src)\n",
    "    for tgt in proj[\"targets\"]:\n",
    "        v = float(tgt[\"density\"])\n",
    "        rat_tgt = lookup_population_in_recipe(tgt[\"population\"], recipe)\n",
    "        tgt_str = \",\".join(rat_tgt)\n",
    "        prescr[src_str, tgt_str] += v\n",
    "display(prescr)"
   ]
  },
  {
   "cell_type": "code",
   "execution_count": 6,
   "id": "0641891b",
   "metadata": {},
   "outputs": [],
   "source": [
    "regions_sscx = prescr.index.levels[0].values.tolist()\n",
    "if \"INH\" in regions_sscx:\n",
    "    regions_sscx.pop(regions_sscx.index(\"INH\"))\n",
    "cmat_local = numpy.zeros((len(regions_sscx), len(regions_sscx)))\n",
    "cmat_presc = numpy.zeros((len(regions_sscx), len(regions_sscx)))\n",
    "\n",
    "for i, reg in enumerate(regions_sscx):\n",
    "    for j, reg2 in enumerate(regions_sscx):\n",
    "        if (reg, reg2) in counts_lcl:\n",
    "            cmat_local[i, j] = counts_lcl[reg, reg2]\n",
    "        if (reg, reg2) in prescr:\n",
    "            cmat_presc[i, j] = prescr[reg, reg2]\n",
    "    "
   ]
  },
  {
   "cell_type": "code",
   "execution_count": 7,
   "id": "fee747d7",
   "metadata": {},
   "outputs": [
    {
     "data": {
      "text/plain": [
       "[Text(0, 0, 'S1DZ'),\n",
       " Text(0, 1, 'S1FL,S1Sh'),\n",
       " Text(0, 2, 'S1HL'),\n",
       " Text(0, 3, 'S1J,S1DZO'),\n",
       " Text(0, 4, 'S1Tr'),\n",
       " Text(0, 5, 'S1ULp')]"
      ]
     },
     "execution_count": 7,
     "metadata": {},
     "output_type": "execute_result"
    },
    {
     "data": {
      "image/png": "[encoded data removed]",
      "text/plain": [
       "<Figure size 288x216 with 2 Axes>"
      ]
     },
     "metadata": {
      "needs_background": "light"
     },
     "output_type": "display_data"
    }
   ],
   "source": [
    "from matplotlib import pyplot as plt\n",
    "use_clim = [-5, -0.5]\n",
    "ax = plt.figure(figsize=(4, 3)).gca()\n",
    "img = ax.imshow(numpy.log10(cmat_local + 1E-5))\n",
    "img.set_clim(use_clim)\n",
    "plt.colorbar(img)\n",
    "\n",
    "ax.set_xticks(range(len(regions_sscx)))\n",
    "ax.set_xticklabels(regions_sscx, rotation='vertical')\n",
    "ax.set_yticks(range(len(regions_sscx)))\n",
    "ax.set_yticklabels(regions_sscx)\n"
   ]
  },
  {
   "cell_type": "code",
   "execution_count": 8,
   "id": "12617544",
   "metadata": {},
   "outputs": [
    {
     "data": {
      "text/plain": [
       "[Text(0, 0, 'S1DZ'),\n",
       " Text(0, 1, 'S1FL,S1Sh'),\n",
       " Text(0, 2, 'S1HL'),\n",
       " Text(0, 3, 'S1J,S1DZO'),\n",
       " Text(0, 4, 'S1Tr'),\n",
       " Text(0, 5, 'S1ULp')]"
      ]
     },
     "execution_count": 8,
     "metadata": {},
     "output_type": "execute_result"
    },
    {
     "data": {
      "image/png": "[encoded data removed]",
      "text/plain": [
       "<Figure size 288x216 with 2 Axes>"
      ]
     },
     "metadata": {
      "needs_background": "light"
     },
     "output_type": "display_data"
    }
   ],
   "source": [
    "ax = plt.figure(figsize=(4, 3)).gca()\n",
    "img = ax.imshow(numpy.log10(cmat_presc + 1E-5))\n",
    "img.set_clim(use_clim)\n",
    "plt.colorbar(img)\n",
    "\n",
    "ax.set_xticks(range(len(regions_sscx)))\n",
    "ax.set_xticklabels(regions_sscx, rotation='vertical')\n",
    "ax.set_yticks(range(len(regions_sscx)))\n",
    "ax.set_yticklabels(regions_sscx)"
   ]
  },
  {
   "cell_type": "code",
   "execution_count": 12,
   "id": "a89a1640",
   "metadata": {},
   "outputs": [
    {
     "data": {
      "text/plain": [
       "[Text(0, 0, 'S1DZ'),\n",
       " Text(0, 1, 'S1FL,S1Sh'),\n",
       " Text(0, 2, 'S1HL'),\n",
       " Text(0, 3, 'S1J,S1DZO'),\n",
       " Text(0, 4, 'S1Tr'),\n",
       " Text(0, 5, 'S1ULp')]"
      ]
     },
     "execution_count": 12,
     "metadata": {},
     "output_type": "execute_result"
    },
    {
     "data": {
      "image/png": "[encoded data removed]",
      "text/plain": [
       "<Figure size 288x216 with 2 Axes>"
      ]
     },
     "metadata": {
      "needs_background": "light"
     },
     "output_type": "display_data"
    }
   ],
   "source": [
    "rel_error = (cmat_local - cmat_presc) / (cmat_local + cmat_presc)\n",
    "ax = plt.figure(figsize=(4, 3)).gca()\n",
    "img = ax.imshow(rel_error, cmap=\"RdBu\")\n",
    "img.set_clim([-1, 1])\n",
    "plt.colorbar(img)\n",
    "\n",
    "ax.set_xticks(range(len(regions_sscx)))\n",
    "ax.set_xticklabels(regions_sscx, rotation='vertical')\n",
    "ax.set_yticks(range(len(regions_sscx)))\n",
    "ax.set_yticklabels(regions_sscx)"
   ]
  },
  {
   "cell_type": "code",
   "execution_count": 13,
   "id": "fa94b100",
   "metadata": {},
   "outputs": [
    {
     "data": {
      "text/plain": [
       "[Text(0, 0, 'S1DZ'),\n",
       " Text(0, 1, 'S1FL,S1Sh'),\n",
       " Text(0, 2, 'S1HL'),\n",
       " Text(0, 3, 'S1J,S1DZO'),\n",
       " Text(0, 4, 'S1Tr'),\n",
       " Text(0, 5, 'S1ULp')]"
      ]
     },
     "execution_count": 13,
     "metadata": {},
     "output_type": "execute_result"
    },
    {
     "data": {
      "image/png": "[encoded data removed]",
      "text/plain": [
       "<Figure size 288x216 with 2 Axes>"
      ]
     },
     "metadata": {
      "needs_background": "light"
     },
     "output_type": "display_data"
    }
   ],
   "source": [
    "rel_error = (cmat_local - cmat_presc) / cmat_presc.mean()\n",
    "ax = plt.figure(figsize=(4, 3)).gca()\n",
    "img = ax.imshow(rel_error, cmap=\"RdBu\")\n",
    "plt.colorbar(img)\n",
    "\n",
    "ax.set_xticks(range(len(regions_sscx)))\n",
    "ax.set_xticklabels(regions_sscx, rotation='vertical')\n",
    "ax.set_yticks(range(len(regions_sscx)))\n",
    "ax.set_yticklabels(regions_sscx)"
   ]
  }
 ],
 "metadata": {
  "kernelspec": {
   "display_name": "Python 3",
   "language": "python",
   "name": "python3"
  },
  "language_info": {
   "codemirror_mode": {
    "name": "ipython",
    "version": 3
   },
   "file_extension": ".py",
   "mimetype": "text/x-python",
   "name": "python",
   "nbconvert_exporter": "python",
   "pygments_lexer": "ipython3",
   "version": "3.8.3"
  }
 },
 "nbformat": 4,
 "nbformat_minor": 5
}
