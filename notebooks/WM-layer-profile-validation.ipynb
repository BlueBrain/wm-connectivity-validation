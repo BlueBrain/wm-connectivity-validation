{
 "cells": [
  {
   "cell_type": "markdown",
   "metadata": {},
   "source": [
    "### Validation of layer profiles of midrange connectivity\n",
    "➤ Actual synapse densities vs. layer profiles used in the recipe"
   ]
  },
  {
   "cell_type": "code",
   "execution_count": 1,
   "metadata": {},
   "outputs": [],
   "source": [
    "import numpy as np\n",
    "import yaml\n",
    "import os\n",
    "import matplotlib.pyplot as plt\n",
    "from bluepy import Circuit\n",
    "from wm_utility.wm_recipe_utility import lookup_population_in_recipe\n",
    "from wm_utility import validate_wm_layer_profiles\n",
    "\n",
    "# Path to the wm-style recipe that has been used to create the connectivity [from SSCXDIS-323]\n",
    "fn_recipe = \"./data/rat_wm_recipe_tr_ll_ul_un_n_m_subtract_adjacents.yaml\"\n",
    "\n",
    "# Circuit config\n",
    "circuit_config = '/gpfs/bbp.cscs.ch/project/proj83/circuits/Bio_M/20200805/CircuitConfig_WM'\n",
    "\n",
    "# Midrange projections name\n",
    "proj_name = 'intra_SSCX_midrange_wm'\n",
    "\n",
    "# Load recipe\n",
    "with open(fn_recipe, \"r\") as fid:\n",
    "    recipe = yaml.load(fid, Loader=yaml.SafeLoader)\n",
    "\n",
    "# Load circuit & get midrange projections\n",
    "c = Circuit(circuit_config)\n",
    "fn_proj = c.config['projections'][proj_name]\n",
    "proj_path = os.path.join(os.path.split(fn_proj)[0], 'feathers')\n",
    "\n",
    "# Prepare saving\n",
    "figs_path = './figs'\n",
    "if not os.path.exists(figs_path):\n",
    "    os.mkdir(figs_path)\n",
    "\n",
    "save_path = './working_dir'\n",
    "if not os.path.exists(save_path):\n",
    "    os.mkdir(save_path)"
   ]
  },
  {
   "cell_type": "code",
   "execution_count": 2,
   "metadata": {},
   "outputs": [
    {
     "name": "stdout",
     "output_type": "stream",
     "text": [
      "111 projections to 8 target regions found in recipe:\n",
      "SSp-tr_23_to_SSp-ll_ipsi: S1Tr-S1HL (profile_6) ... OK\n",
      "SSp-tr_23_to_SSp-ul_ipsi: S1Tr-S1FL/S1Sh (profile_6) ... OK\n",
      "SSp-tr_23_to_SSp-un_ipsi: S1Tr-S1DZ (profile_3) ... OK\n",
      "SSp-tr_4_to_SSp-ll_ipsi: S1Tr-S1HL (profile_3) ... OK\n",
      "SSp-tr_4_to_SSp-ul_ipsi: S1Tr-S1FL/S1Sh (profile_3) ... OK\n",
      "SSp-tr_4_to_SSp-un_ipsi: S1Tr-S1DZ (profile_3) ... OK\n",
      "SSp-tr_5it_to_SSp-ll_ipsi: S1Tr-S1HL (profile_4) ... OK\n",
      "SSp-tr_5it_to_SSp-ul_ipsi: S1Tr-S1FL/S1Sh (profile_4) ... OK\n",
      "SSp-tr_5it_to_SSp-un_ipsi: S1Tr-S1DZ (profile_1) ... OK\n",
      "SSp-tr_5pt_to_SSp-ll_ipsi: S1Tr-S1HL (profile_4) ... OK\n",
      "SSp-tr_5pt_to_SSp-ul_ipsi: S1Tr-S1FL/S1Sh (profile_4) ... OK\n",
      "SSp-tr_5pt_to_SSp-un_ipsi: S1Tr-S1DZ (profile_4) ... OK\n",
      "SSp-tr_6_to_SSp-ll_ipsi: S1Tr-S1HL (profile_6) ... OK\n",
      "SSp-tr_6_to_SSp-ul_ipsi: S1Tr-S1FL/S1Sh (profile_6) ... OK\n",
      "SSp-tr_6_to_SSp-un_ipsi: S1Tr-S1DZ (profile_6) ... OK\n",
      "SSp-ll_23_to_SSp-tr_ipsi: S1HL-S1Tr (profile_3) ... OK\n",
      "SSp-ll_23_to_SSp-ul_ipsi: S1HL-S1FL/S1Sh (profile_3) ... OK\n",
      "SSp-ll_23_to_SSp-un_ipsi: S1HL-S1DZ (profile_3) ... OK\n",
      "SSp-ll_4_to_SSp-tr_ipsi: S1HL-S1Tr (profile_3) ... OK\n",
      "SSp-ll_4_to_SSp-ul_ipsi: S1HL-S1FL/S1Sh (profile_3) ... OK\n",
      "SSp-ll_4_to_SSp-un_ipsi: S1HL-S1DZ (profile_3) ... OK\n",
      "SSp-ll_5it_to_SSp-tr_ipsi: S1HL-S1Tr (profile_1) ... OK\n",
      "SSp-ll_5it_to_SSp-ul_ipsi: S1HL-S1FL/S1Sh (profile_1) ... OK\n",
      "SSp-ll_5it_to_SSp-un_ipsi: S1HL-S1DZ (profile_1) ... OK\n",
      "SSp-ll_5pt_to_SSp-tr_ipsi: S1HL-S1Tr (profile_4) ... OK\n",
      "SSp-ll_5pt_to_SSp-ul_ipsi: S1HL-S1FL/S1Sh (profile_4) ... OK\n",
      "SSp-ll_5pt_to_SSp-un_ipsi: S1HL-S1DZ (profile_4) ... OK\n",
      "SSp-ll_6_to_SSp-tr_ipsi: S1HL-S1Tr (profile_6) ... OK\n",
      "SSp-ll_6_to_SSp-ul_ipsi: S1HL-S1FL/S1Sh (profile_6) ... OK\n",
      "SSp-ll_6_to_SSp-un_ipsi: S1HL-S1DZ (profile_6) ... OK\n",
      "SSp-ul_23_to_SSp-tr_ipsi: S1FL/S1Sh-S1Tr (profile_3) ... OK\n",
      "SSp-ul_23_to_SSp-ll_ipsi: S1FL/S1Sh-S1HL (profile_6) ... OK\n",
      "SSp-ul_23_to_SSp-un_ipsi: S1FL/S1Sh-S1DZ (profile_3) ... OK\n",
      "SSp-ul_23_to_SSp-n_ipsi: S1FL/S1Sh-S1ULp (profile_6) ... OK\n",
      "SSp-ul_23_to_SSp-m_ipsi: S1FL/S1Sh-S1J/S1DZO (profile_3) ... OK\n",
      "SSp-ul_4_to_SSp-tr_ipsi: S1FL/S1Sh-S1Tr (profile_3) ... OK\n",
      "SSp-ul_4_to_SSp-ll_ipsi: S1FL/S1Sh-S1HL (profile_3) ... OK\n",
      "SSp-ul_4_to_SSp-un_ipsi: S1FL/S1Sh-S1DZ (profile_3) ... OK\n",
      "SSp-ul_4_to_SSp-n_ipsi: S1FL/S1Sh-S1ULp (profile_3) ... OK\n",
      "SSp-ul_4_to_SSp-m_ipsi: S1FL/S1Sh-S1J/S1DZO (profile_3) ... OK\n",
      "SSp-ul_5it_to_SSp-tr_ipsi: S1FL/S1Sh-S1Tr (profile_1) ... OK\n",
      "SSp-ul_5it_to_SSp-ll_ipsi: S1FL/S1Sh-S1HL (profile_4) ... OK\n",
      "SSp-ul_5it_to_SSp-un_ipsi: S1FL/S1Sh-S1DZ (profile_1) ... OK\n",
      "SSp-ul_5it_to_SSp-n_ipsi: S1FL/S1Sh-S1ULp (profile_4) ... OK\n",
      "SSp-ul_5it_to_SSp-m_ipsi: S1FL/S1Sh-S1J/S1DZO (profile_1) ... OK\n",
      "SSp-ul_5pt_to_SSp-tr_ipsi: S1FL/S1Sh-S1Tr (profile_4) ... OK\n",
      "SSp-ul_5pt_to_SSp-ll_ipsi: S1FL/S1Sh-S1HL (profile_4) ... OK\n",
      "SSp-ul_5pt_to_SSp-un_ipsi: S1FL/S1Sh-S1DZ (profile_4) ... OK\n",
      "SSp-ul_5pt_to_SSp-n_ipsi: S1FL/S1Sh-S1ULp (profile_4) ... OK\n",
      "SSp-ul_5pt_to_SSp-m_ipsi: S1FL/S1Sh-S1J/S1DZO (profile_4) ... OK\n",
      "SSp-ul_6_to_SSp-tr_ipsi: S1FL/S1Sh-S1Tr (profile_6) ... OK\n",
      "SSp-ul_6_to_SSp-ll_ipsi: S1FL/S1Sh-S1HL (profile_6) ... OK\n",
      "SSp-ul_6_to_SSp-un_ipsi: S1FL/S1Sh-S1DZ (profile_6) ... OK\n",
      "SSp-ul_6_to_SSp-n_ipsi: S1FL/S1Sh-S1ULp (profile_6) ... OK\n",
      "SSp-ul_6_to_SSp-m_ipsi: S1FL/S1Sh-S1J/S1DZO (profile_6) ... OK\n",
      "SSp-un_23_to_SSp-tr_ipsi: S1DZ-S1Tr (profile_6) ... OK\n",
      "SSp-un_23_to_SSp-ll_ipsi: S1DZ-S1HL (profile_6) ... OK\n",
      "SSp-un_23_to_SSp-ul_ipsi: S1DZ-S1FL/S1Sh (profile_6) ... OK\n",
      "SSp-un_23_to_SSp-n_ipsi: S1DZ-S1ULp (profile_6) ... OK\n",
      "SSp-un_23_to_SSp-m_ipsi: S1DZ-S1J/S1DZO (profile_6) ... OK\n",
      "SSp-un_4_to_SSp-tr_ipsi: S1DZ-S1Tr (profile_3) ... OK\n",
      "SSp-un_4_to_SSp-ll_ipsi: S1DZ-S1HL (profile_3) ... OK\n",
      "SSp-un_4_to_SSp-ul_ipsi: S1DZ-S1FL/S1Sh (profile_3) ... OK\n",
      "SSp-un_4_to_SSp-n_ipsi: S1DZ-S1ULp (profile_3) ... OK\n",
      "SSp-un_4_to_SSp-m_ipsi: S1DZ-S1J/S1DZO (profile_3) ... OK\n",
      "SSp-un_5it_to_SSp-tr_ipsi: S1DZ-S1Tr (profile_4) ... OK\n",
      "SSp-un_5it_to_SSp-ll_ipsi: S1DZ-S1HL (profile_4) ... OK\n",
      "SSp-un_5it_to_SSp-ul_ipsi: S1DZ-S1FL/S1Sh (profile_4) ... OK\n",
      "SSp-un_5it_to_SSp-n_ipsi: S1DZ-S1ULp (profile_4) ... OK\n",
      "SSp-un_5it_to_SSp-m_ipsi: S1DZ-S1J/S1DZO (profile_4) ... OK\n",
      "SSp-un_5pt_to_SSp-tr_ipsi: S1DZ-S1Tr (profile_4) ... OK\n",
      "SSp-un_5pt_to_SSp-ll_ipsi: S1DZ-S1HL (profile_4) ... OK\n",
      "SSp-un_5pt_to_SSp-ul_ipsi: S1DZ-S1FL/S1Sh (profile_4) ... OK\n",
      "SSp-un_5pt_to_SSp-n_ipsi: S1DZ-S1ULp (profile_4) ... OK\n",
      "SSp-un_5pt_to_SSp-m_ipsi: S1DZ-S1J/S1DZO (profile_4) ... OK\n",
      "SSp-un_6_to_SSp-tr_ipsi: S1DZ-S1Tr (profile_6) ... OK\n",
      "SSp-un_6_to_SSp-ll_ipsi: S1DZ-S1HL (profile_6) ... OK\n",
      "SSp-un_6_to_SSp-ul_ipsi: S1DZ-S1FL/S1Sh (profile_6) ... OK\n",
      "SSp-un_6_to_SSp-n_ipsi: S1DZ-S1ULp (profile_6) ... OK\n",
      "SSp-un_6_to_SSp-m_ipsi: S1DZ-S1J/S1DZO (profile_6) ... OK\n",
      "SSp-n_23_to_SSp-ul_ipsi: S1ULp-S1FL/S1Sh (profile_3) ... OK\n",
      "SSp-n_23_to_SSp-un_ipsi: S1ULp-S1DZ (profile_3) ... OK\n",
      "SSp-n_23_to_SSp-m_ipsi: S1ULp-S1J/S1DZO (profile_3) ... OK\n",
      "SSp-n_4_to_SSp-ul_ipsi: S1ULp-S1FL/S1Sh (profile_3) ... OK\n",
      "SSp-n_4_to_SSp-un_ipsi: S1ULp-S1DZ (profile_3) ... OK\n",
      "SSp-n_4_to_SSp-m_ipsi: S1ULp-S1J/S1DZO (profile_3) ... OK\n",
      "SSp-n_5it_to_SSp-ll_ipsi: S1ULp-S1HL (profile_1) ... OK\n",
      "SSp-n_5it_to_SSp-ul_ipsi: S1ULp-S1FL/S1Sh (profile_1) ... OK\n",
      "SSp-n_5it_to_SSp-un_ipsi: S1ULp-S1DZ (profile_1) ... OK\n",
      "SSp-n_5it_to_SSp-m_ipsi: S1ULp-S1J/S1DZO (profile_1) ... OK\n",
      "SSp-n_5pt_to_SSp-ul_ipsi: S1ULp-S1FL/S1Sh (profile_4) ... OK\n",
      "SSp-n_5pt_to_SSp-un_ipsi: S1ULp-S1DZ (profile_4) ... OK\n",
      "SSp-n_5pt_to_SSp-m_ipsi: S1ULp-S1J/S1DZO (profile_4) ... OK\n",
      "SSp-n_6_to_SSp-ul_ipsi: S1ULp-S1FL/S1Sh (profile_6) ... OK\n",
      "SSp-n_6_to_SSp-un_ipsi: S1ULp-S1DZ (profile_6) ... OK\n",
      "SSp-n_6_to_SSp-m_ipsi: S1ULp-S1J/S1DZO (profile_6) ... OK\n",
      "SSp-m_23_to_SSp-ul_ipsi: S1J/S1DZO-S1FL/S1Sh (profile_6) ... OK\n",
      "SSp-m_23_to_SSp-un_ipsi: S1J/S1DZO-S1DZ (profile_3) ... OK\n",
      "SSp-m_23_to_SSp-n_ipsi: S1J/S1DZO-S1ULp (profile_6) ... OK\n",
      "SSp-m_4_to_SSp-ul_ipsi: S1J/S1DZO-S1FL/S1Sh (profile_3) ... OK\n",
      "SSp-m_4_to_SSp-un_ipsi: S1J/S1DZO-S1DZ (profile_3) ... OK\n",
      "SSp-m_4_to_SSp-n_ipsi: S1J/S1DZO-S1ULp (profile_3) ... OK\n",
      "SSp-m_5it_to_SSp-ul_ipsi: S1J/S1DZO-S1FL/S1Sh (profile_4) ... OK\n",
      "SSp-m_5it_to_SSp-un_ipsi: S1J/S1DZO-S1DZ (profile_1) ... OK\n",
      "SSp-m_5it_to_SSp-n_ipsi: S1J/S1DZO-S1ULp (profile_4) ... OK\n",
      "SSp-m_5pt_to_SSp-ul_ipsi: S1J/S1DZO-S1FL/S1Sh (profile_4) ... OK\n",
      "SSp-m_5pt_to_SSp-un_ipsi: S1J/S1DZO-S1DZ (profile_4) ... OK\n",
      "SSp-m_5pt_to_SSp-n_ipsi: S1J/S1DZO-S1ULp (profile_4) ... OK\n",
      "SSp-m_6_to_SSp-ul_ipsi: S1J/S1DZO-S1FL/S1Sh (profile_6) ... OK\n",
      "SSp-m_6_to_SSp-un_ipsi: S1J/S1DZO-S1DZ (profile_6) ... OK\n",
      "SSp-m_6_to_SSp-n_ipsi: S1J/S1DZO-S1ULp (profile_6) ... OK\n"
     ]
    }
   ],
   "source": [
    "# Get all projections\n",
    "projections = []\n",
    "src_regions = []\n",
    "tgt_regions = []\n",
    "profiles = []\n",
    "densities = []\n",
    "proj_files = []\n",
    "for proj in recipe['projections']:\n",
    "    src = proj['source']\n",
    "    src_name = lookup_population_in_recipe(src, recipe)\n",
    "    for tgt in proj['targets']:\n",
    "        tgt_name = lookup_population_in_recipe(tgt['population'], recipe)\n",
    "        projections.append(tgt['projection_name'])\n",
    "        src_regions.append(src_name)\n",
    "        tgt_regions.append(tgt_name)\n",
    "        profiles.append(tgt['target_layer_profiles'][0]['name'])\n",
    "        densities.append(tgt['density'])\n",
    "        proj_files.append(os.path.join(proj_path, tgt['projection_name'] + '.feather'))\n",
    "\n",
    "regions = np.unique(np.hstack(tgt_regions)) # All target regions\n",
    "print(f'{len(projections)} projections to {len(regions)} target regions found in recipe:')\n",
    "for pidx in range(len(projections)):\n",
    "    print(f'{projections[pidx]}: {\"/\".join(src_regions[pidx])}-{\"/\".join(tgt_regions[pidx])} ({profiles[pidx]})', end='')\n",
    "    \n",
    "    # Check if corrsponding projection file exists\n",
    "    if not os.path.exists(proj_files[pidx]):\n",
    "        print(f' ERROR: FILE NOT FOUND')\n",
    "    else:\n",
    "        print(' ... OK')\n"
   ]
  },
  {
   "cell_type": "code",
   "execution_count": 82,
   "metadata": {},
   "outputs": [
    {
     "name": "stdout",
     "output_type": "stream",
     "text": [
      "LOADED 6 layers and 8 regions from brain atlas\n"
     ]
    }
   ],
   "source": [
    "# Load atlas\n",
    "atlas_regions, layers, atlas_ids, vox_rel_depth = validate_wm_layer_profiles.load_brain_atlas(c, regions)"
   ]
  },
  {
   "cell_type": "code",
   "execution_count": 83,
   "metadata": {},
   "outputs": [
    {
     "name": "stdout",
     "output_type": "stream",
     "text": [
      "LOADED 4 relative layer profiles from recipe: ['profile_1', 'profile_3', 'profile_4', 'profile_6']\n"
     ]
    }
   ],
   "source": [
    "# Load layer profiles from recipe\n",
    "profiles_list = list(np.unique(profiles))\n",
    "rel_density_layer_profiles = {}\n",
    "for profile in profiles_list:\n",
    "    rel_density_layer_profiles.update({profile: validate_wm_layer_profiles.rel_density_profile_from_recipe(recipe, profile)})\n",
    "print(f'LOADED {len(profiles_list)} relative layer profiles from recipe: {profiles_list}')"
   ]
  },
  {
   "cell_type": "code",
   "execution_count": 84,
   "metadata": {},
   "outputs": [],
   "source": [
    "# Estimate overall layer boundaries\n",
    "rel_layer_depth_range, rel_layer_thickness = validate_wm_layer_profiles.estimate_layer_boundaries(vox_rel_depth, atlas_regions, [atlas_ids])\n",
    "rel_layer_depth_range = rel_layer_depth_range[0]\n",
    "rel_layer_thickness = rel_layer_thickness[0]"
   ]
  },
  {
   "cell_type": "code",
   "execution_count": null,
   "metadata": {},
   "outputs": [],
   "source": [
    "# # Estimate depth profiles for all projections [MEAN OVER ALL TARGET REGIONS]\n",
    "# num_rel_depth_bins = 50\n",
    "# rel_depth_density_hists = []\n",
    "# for pidx in range(len(projections)):\n",
    "#     print(f'{pidx + 1} of {len(projections)}:', end=' ')\n",
    "#     proj_file = proj_files[pidx]\n",
    "#     fn = os.path.join(save_path, os.path.splitext(os.path.split(proj_file)[1])[0]) + '__depth_hist.npz'\n",
    "#     if os.path.exists(fn):\n",
    "#         print(f'FILE {fn} EXISTS ... Loading from file!')\n",
    "#         data = np.load(fn)\n",
    "#         rel_depth_density_hist = data['rel_depth_density_hist']\n",
    "#         rel_depth_bins = data['rel_depth_bins']\n",
    "#     else:\n",
    "#         reg_idx = np.array([np.where(r == regions)[0] for r in tgt_regions[pidx]]).flatten()\n",
    "#         rel_depth_density_hist, rel_depth_bins = validate_wm_layer_profiles.estimate_depth_profiles(proj_file, atlas_regions, [atlas_ids[:, reg_idx]], vox_rel_depth, num_rel_depth_bins)\n",
    "#         np.savez(fn, rel_depth_density_hist=rel_depth_density_hist, rel_depth_bins=rel_depth_bins) # SAVE TO FILE\n",
    "#     rel_depth_density_hists.append(rel_depth_density_hist)\n",
    "# rel_depth_density_hists = np.hstack(rel_depth_density_hists)"
   ]
  },
  {
   "cell_type": "code",
   "execution_count": null,
   "metadata": {},
   "outputs": [],
   "source": [
    "# # Plot single selected density profile\n",
    "# sel_idx = 4\n",
    "# proj_name = projections[sel_idx]\n",
    "# profile_name = profiles[sel_idx]\n",
    "# tgt_name = '-'.join(tgt_regions[sel_idx])\n",
    "# density_layer_profile = densities[sel_idx] * rel_density_layer_profiles[profile_name]\n",
    "# validate_wm_layer_profiles.plot_rel_density_profiles(rel_depth_density_hists[:, [sel_idx]], rel_depth_bins, [tgt_name], [rel_layer_depth_range], density_layer_profile, fig_title=f'{proj_name} vs. {profile_name}', unit='Density\\n[#Syn/$\\mu$m$^3$]', save_path=figs_path)"
   ]
  },
  {
   "cell_type": "code",
   "execution_count": null,
   "metadata": {},
   "outputs": [],
   "source": []
  },
  {
   "cell_type": "code",
   "execution_count": null,
   "metadata": {},
   "outputs": [],
   "source": [
    "# Estimate depth profiles for all projections [SEPARATELY FOR ALL REGIONS]\n",
    "num_rel_depth_bins = 50\n",
    "rel_depth_density_hists = []\n",
    "for pidx in range(len(projections)):\n",
    "    print(f'{pidx + 1} of {len(projections)}:', end=' ')\n",
    "    proj_file = proj_files[pidx]\n",
    "    fn = os.path.join(save_path, os.path.splitext(os.path.split(proj_file)[1])[0]) + '__depth_hist_all_reg.npz'\n",
    "    if os.path.exists(fn):\n",
    "        print(f'FILE {fn} EXISTS ... Loading from file!')\n",
    "        data = np.load(fn)\n",
    "        rel_depth_density_hist = data['rel_depth_density_hist']\n",
    "        rel_depth_bins = data['rel_depth_bins']\n",
    "    else:\n",
    "        rel_depth_density_hist, rel_depth_bins = validate_wm_layer_profiles.estimate_depth_profiles(proj_file, atlas_regions, [atlas_ids[:, [r]] for r in range(len(regions))], vox_rel_depth, num_rel_depth_bins)\n",
    "        np.savez(fn, rel_depth_density_hist=rel_depth_density_hist, rel_depth_bins=rel_depth_bins) # SAVE TO FILE\n",
    "    rel_depth_density_hists.append(rel_depth_density_hist)"
   ]
  },
  {
   "cell_type": "code",
   "execution_count": null,
   "metadata": {},
   "outputs": [],
   "source": [
    "# Plot single selected density profiles [ALL REGIONS]\n",
    "for sel_idx in range(len(projections)):\n",
    "    proj_name = projections[sel_idx]\n",
    "    profile_name = profiles[sel_idx]\n",
    "    tgt_idx = np.array([np.where(r == regions)[0] for r in tgt_regions[sel_idx]]).flatten()\n",
    "    density_layer_profile = rel_density_layer_profiles[profile_name] * densities[sel_idx] / np.sum(rel_density_layer_profiles[profile_name] * rel_layer_thickness)\n",
    "    validate_wm_layer_profiles.plot_rel_density_profiles(rel_depth_density_hists[sel_idx], rel_depth_bins, regions, len(regions) * [rel_layer_depth_range], [density_layer_profile if r in tgt_idx else np.zeros_like(density_layer_profile) for r in range(len(regions))], fig_title=f'{proj_name} vs. {profile_name} (subregions)', unit='Density\\n[#Syn/$\\mu$m$^3$]', num_rows=1, save_path=figs_path)"
   ]
  },
  {
   "cell_type": "code",
   "execution_count": null,
   "metadata": {},
   "outputs": [],
   "source": [
    "# Plot single selected density profiles [MEAN OVER TARGET REGIONS]\n",
    "tgt_mean_histograms = []\n",
    "tgt_names = []\n",
    "tgt_layer_profiles = []\n",
    "for sel_idx in range(len(projections)):\n",
    "    proj_name = projections[sel_idx]\n",
    "    profile_name = profiles[sel_idx]\n",
    "    tgt_name = '-'.join(tgt_regions[sel_idx])\n",
    "    tgt_idx = np.array([np.where(r == regions)[0] for r in tgt_regions[sel_idx]]).flatten()\n",
    "    density_layer_profile = rel_density_layer_profiles[profile_name] * densities[sel_idx] / np.sum(rel_density_layer_profiles[profile_name] * rel_layer_thickness)\n",
    "    tgt_mean_histograms.append(np.mean(rel_depth_density_hists[sel_idx][:, tgt_idx], 1, keepdims=True))\n",
    "    tgt_names.append(f'{proj_name}\\n({profile_name})')\n",
    "    tgt_layer_profiles.append(density_layer_profile)\n",
    "validate_wm_layer_profiles.plot_rel_density_profiles(np.hstack(tgt_mean_histograms), rel_depth_bins, tgt_names, len(tgt_layer_profiles) * [rel_layer_depth_range], tgt_layer_profiles, fig_title='All projections overview', unit='Density\\n[#Syn/$\\mu$m$^3$]', num_rows=8, save_path=figs_path)"
   ]
  },
  {
   "cell_type": "code",
   "execution_count": 121,
   "metadata": {},
   "outputs": [
    {
     "data": {
      "image/png": "[encoded data removed]",
      "text/plain": [
       "<Figure size 576x216 with 4 Axes>"
      ]
     },
     "metadata": {},
     "output_type": "display_data"
    }
   ],
   "source": [
    "# Plot mean densities per profile (normalized densities based on rel. target profile densities)\n",
    "tgt_norm_mean_histograms = []\n",
    "for sel_idx in range(len(projections)):\n",
    "    tgt_idx = np.array([np.where(r == regions)[0] for r in tgt_regions[sel_idx]]).flatten()\n",
    "    profile_name = profiles[sel_idx]\n",
    "    scale_factor = densities[sel_idx] / np.sum(rel_density_layer_profiles[profile_name] * rel_layer_thickness)\n",
    "    tgt_norm_mean_histograms.append(np.mean(rel_depth_density_hists[sel_idx][:, tgt_idx], 1, keepdims=True) / scale_factor) # Normalize!\n",
    "\n",
    "profile_densities_mean = []\n",
    "profile_densities_std = []\n",
    "profile_names = []\n",
    "for profile in profiles_list:\n",
    "    sel_idx = np.where(np.array(profiles) == profile)[0]\n",
    "    hist_mean = np.mean(np.hstack(tgt_norm_mean_histograms)[:, sel_idx], 1, keepdims=True)\n",
    "    hist_std = np.std(np.hstack(tgt_norm_mean_histograms)[:, sel_idx], 1, keepdims=True)\n",
    "    profile_densities_mean.append(hist_mean)\n",
    "    profile_densities_std.append(hist_std)\n",
    "    profile_names.append(f'{profile} (N={len(sel_idx)})')\n",
    "\n",
    "validate_wm_layer_profiles.plot_rel_density_profiles(np.hstack(profile_densities_mean), rel_depth_bins, profile_names, len(profiles_list) * [rel_layer_depth_range], [rel_density_layer_profiles[p] for p in profiles_list], err_bars=np.hstack(profile_densities_std), fig_title='Profiles overview', unit='Norm. synapse density', num_rows=1, save_path=figs_path)"
   ]
  },
  {
   "cell_type": "code",
   "execution_count": null,
   "metadata": {},
   "outputs": [],
   "source": []
  },
  {
   "cell_type": "code",
   "execution_count": null,
   "metadata": {},
   "outputs": [],
   "source": []
  },
  {
   "cell_type": "code",
   "execution_count": null,
   "metadata": {},
   "outputs": [],
   "source": []
  },
  {
   "cell_type": "code",
   "execution_count": 26,
   "metadata": {},
   "outputs": [],
   "source": [
    "### OLD CODE ###"
   ]
  },
  {
   "cell_type": "code",
   "execution_count": null,
   "metadata": {},
   "outputs": [],
   "source": [
    "# # Load synapse property tables (incl. positions) of midrange projections\n",
    "# sel_idx = 4\n",
    "# proj_name = projections[sel_idx]\n",
    "# print(f'PROCESSING {proj_name}...')\n",
    "# syn_table = pd.read_feather(proj_files[sel_idx])"
   ]
  },
  {
   "cell_type": "code",
   "execution_count": 162,
   "metadata": {},
   "outputs": [],
   "source": [
    "# # Rel. depth profiles (voxel-based densities & depth estimates)\n",
    "\n",
    "# ## Voxel-based synapse densities\n",
    "# syn_pos = syn_table[['x', 'y', 'z']]\n",
    "# syn_atlas_idx = atlas_regions.positions_to_indices(syn_pos.values)\n",
    "# idx, cnt = np.unique(syn_atlas_idx, axis=0, return_counts=True)\n",
    "# vox_syn_count = np.zeros_like(atlas_regions.raw, dtype=int)\n",
    "# vox_syn_count[idx[:, 0], idx[:, 1], idx[:, 2]] += cnt # Count synapses per voxel => DUPLICATES TO BE TAKEN INTO ACCOUNT!!\n",
    "# vox_syn_density = vox_syn_count / atlas_regions.voxel_volume # (#Syn/um3)\n",
    "\n",
    "# ## Depth histogram per region\n",
    "# num_rel_depth_bins = 50\n",
    "# rel_depth_bins = np.linspace(np.nanmin(vox_rel_depth), np.nanmax(vox_rel_depth), num_rel_depth_bins + 1)\n",
    "# rel_depth_bin_centers = np.array([np.mean(rel_depth_bins[i : i + 2]) for i in range(num_rel_depth_bins)])\n",
    "\n",
    "# rel_depth_values = vox_rel_depth[~np.isnan(vox_rel_depth)]\n",
    "# density_values = vox_syn_density[~np.isnan(vox_rel_depth)]\n",
    "# # regid_values = atlas_regions.raw[~np.isnan(vox_rel_depth)]\n",
    "\n",
    "# rel_depth_density_hist = np.zeros((num_rel_depth_bins, len(regions)))\n",
    "# for ridx, reg in enumerate(regions):\n",
    "#     for didx in range(num_rel_depth_bins):\n",
    "#         dmin = rel_depth_bins[didx]\n",
    "#         dmax = rel_depth_bins[didx + 1]\n",
    "#         if didx + 1 == num_rel_depth_bins:\n",
    "#             dmax += 1 # So that border values also included in last bin\n",
    "#         dsel = np.logical_and(rel_depth_values >= dmin, rel_depth_values < dmax)\n",
    "#         rsel = np.in1d(regid_values, atlas_ids[:, ridx])\n",
    "#         if np.sum(np.logical_and(dsel, rsel)) > 0:\n",
    "#             rel_depth_density_hist[didx, ridx] = np.mean(density_values[np.logical_and(dsel, rsel)]) # Mean density in a given depth range\n",
    "#         else:\n",
    "#             rel_depth_density_hist[didx, ridx] = 0.0"
   ]
  },
  {
   "cell_type": "code",
   "execution_count": 164,
   "metadata": {},
   "outputs": [],
   "source": [
    "# # Extract density profile from recipe\n",
    "# profile_idx = np.where([profile['name'] == profiles[sel_idx] for profile in recipe['layer_profiles']])[0][0]\n",
    "# profile_recipe = recipe['layer_profiles'][profile_idx]['relative_densities']\n",
    "\n",
    "# density_layer_profile = np.zeros(len(layers))\n",
    "# for p_idx, p_dict in enumerate(profile_recipe):\n",
    "#     for lay in p_dict['layers']:\n",
    "#         density_layer_profile[int(lay[1:]) - 1] = densities[sel_idx] * p_dict['value']"
   ]
  },
  {
   "cell_type": "code",
   "execution_count": 175,
   "metadata": {},
   "outputs": [
    {
     "data": {
      "image/png": "[encoded data removed]",
      "text/plain": [
       "<Figure size 720x432 with 8 Axes>"
      ]
     },
     "metadata": {},
     "output_type": "display_data"
    }
   ],
   "source": [
    "# # Plot rel. synapse density profiles (voxel-based)\n",
    "# lcolors = plt.cm.jet(np.linspace(0, 1, len(layers)))\n",
    "# plt.figure(figsize=(10, 6))\n",
    "# plt.gcf().patch.set_facecolor('w')\n",
    "# for ridx, reg in enumerate(regions):\n",
    "#     plt.subplot(2, np.ceil(len(regions) / 2).astype(int), ridx + 1)\n",
    "#     plt.barh(100.0 * rel_depth_bin_centers, rel_depth_density_hist[:, ridx], np.diff(100.0 * rel_depth_bin_centers[:2]))\n",
    "#     plt.gca().spines['top'].set_visible(False)\n",
    "#     plt.gca().spines['right'].set_visible(False)\n",
    "#     plt.xlim([0, 0.006])\n",
    "#     plt.ylim([100.0 * rel_depth_bins[0], 100.0 * rel_depth_bins[-1]])\n",
    "#     plt.gca().invert_yaxis()\n",
    "#     plt.xticks(rotation=45)\n",
    "#     plt.title(reg)\n",
    "#     if ridx >= np.ceil(len(regions) / 2).astype(int):\n",
    "#         plt.xlabel('Density\\n[#Syn/$\\mu$m$^3$]')\n",
    "#     ## Plot layer boundaries\n",
    "#     for lidx, lay in enumerate(layers):\n",
    "#         plt.plot(np.ones(2) * max(plt.xlim()), 100.0 * rel_layer_depth_range[lidx, ridx, :], '-_', color=lcolors[lidx, :], linewidth=5, alpha=0.5, solid_capstyle='butt', markersize=10, clip_on=False)\n",
    "#         plt.text(max(plt.xlim()), 100.0 * np.mean(rel_layer_depth_range[lidx, ridx, :]), '  L{}'.format(lay), color=lcolors[lidx, :], ha='left', va='center')\n",
    "#         plt.plot(plt.xlim(), np.ones(2) * 100.0 * rel_layer_depth_range[lidx, ridx, 0], '-', color=lcolors[lidx, :], linewidth=1, alpha=0.1, zorder=0)\n",
    "#         plt.plot(plt.xlim(), np.ones(2) * 100.0 * rel_layer_depth_range[lidx, ridx, 1], '-', color=lcolors[lidx, :], linewidth=1, alpha=0.1, zorder=0)\n",
    "#     if np.mod(ridx, np.ceil(len(regions) / 2).astype(int)) == 0:\n",
    "#         plt.ylabel('Rel. depth [%]')\n",
    "#     else:\n",
    "#         plt.gca().set_yticklabels([])\n",
    "\n",
    "#     # Plot intended densities from recipe\n",
    "#     if reg in tgt_regions[sel_idx]:\n",
    "#         pscale = 1.0\n",
    "#     else:\n",
    "#         pscale = 0.0\n",
    "#     plt.step(pscale * np.repeat(density_layer_profile, 2), 100.0 * rel_layer_depth_range[:, ridx, :].flatten(), 'm', where='post', linewidth=1.5, alpha=0.5, clip_on=False, label='Recipe')\n",
    "# plt.legend(loc='lower right')\n",
    "# plt.suptitle(f'{projections[sel_idx]} densities vs. \"{profiles[sel_idx]}\"', fontweight='bold')\n",
    "# plt.tight_layout()\n",
    "# plt.savefig(os.path.join(figs_path, f'{projections[sel_idx]}_profiles.png'), dpi=300)\n",
    "# plt.show()"
   ]
  },
  {
   "cell_type": "code",
   "execution_count": null,
   "metadata": {},
   "outputs": [],
   "source": []
  },
  {
   "cell_type": "code",
   "execution_count": null,
   "metadata": {},
   "outputs": [],
   "source": []
  },
  {
   "cell_type": "code",
   "execution_count": null,
   "metadata": {},
   "outputs": [],
   "source": []
  }
 ],
 "metadata": {
  "kernelspec": {
   "display_name": "WMKernel",
   "language": "python",
   "name": "wmkernel"
  },
  "language_info": {
   "codemirror_mode": {
    "name": "ipython",
    "version": 3
   },
   "file_extension": ".py",
   "mimetype": "text/x-python",
   "name": "python",
   "nbconvert_exporter": "python",
   "pygments_lexer": "ipython3",
   "version": "3.8.3"
  }
 },
 "nbformat": 4,
 "nbformat_minor": 4
}
